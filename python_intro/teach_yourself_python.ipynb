{
 "cells": [
  {
   "cell_type": "markdown",
   "metadata": {},
   "source": [
    "## Week 0 HW2\n",
    "\n",
    "1. This assignment is an individual effort.\n",
    "2. Submission to be uploaded into your group repositories in the folder python_intro\n",
    "3. Deadline is 20th of April 5:00 PM.\n",
    "4. Please follow google's [python styleguide](https://google.github.io/styleguide/pyguide.html) for your code. Pay attention to the guidelines for naming convention, comments and main.\n",
    "5. Code will be checked for plagiarism. Compelling signs of a duplicated effort will lead to a rejection of submission and will attract a 100\\% grade penalty.\n"
   ]
  },
  {
   "cell_type": "markdown",
   "metadata": {},
   "source": [
    "### 1\n",
    "Please load the file provided to you by email. Use _json_ module to read it as a list. "
   ]
  },
  {
   "cell_type": "code",
   "execution_count": 30,
   "metadata": {
    "collapsed": false
   },
   "outputs": [],
   "source": [
    "import json\n",
    "from pprint import pprint\n",
    "\n",
    "# 1 use open a connection to the file\n",
    "file_handle = open('1974_Nixon.txt')\n",
    "# 2 read contents of the file\n",
    "file_content = json.load(file_handle)\n",
    "file_handle.close()\n",
    "# 3 use the json module to read the string as a list\n",
    "speech = [s.encode('utf-8') for s in file_content]"
   ]
  },
  {
   "cell_type": "markdown",
   "metadata": {},
   "source": [
    "Notice that type(speech) is list. Please take a moment to go through the python list documentation and check out the various ways to manipulate lists.  "
   ]
  },
  {
   "cell_type": "markdown",
   "metadata": {},
   "source": [
    "###2\n",
    "The first element of the list is the year of speech, the second element is the president who gave it, while the third is the transcript of the same. \n",
    "\n",
    "1. Inspect the transcript. Note the commonly used non-alphanumerical characters. Use an appropriate method of strings to get rid of them.\n",
    "2. Use an appropriate string method to split the string of the speech into a list of smaller list of words.\n",
    "3. Convert all words into lower case and return the list. Use a for loop. Then use a list comprehension to do the same.  "
   ]
  },
  {
   "cell_type": "code",
   "execution_count": 43,
   "metadata": {
    "collapsed": false
   },
   "outputs": [],
   "source": [
    "import string\n",
    "\n",
    "#1 Remove all the punctuation\n",
    "exclude = set(string.punctuation)\n",
    "stripped_text = ''.join(ch for ch in speech[2] if ch not in exclude)\n",
    "# print(s[0:100])\n",
    "#2 split the string of the speech into a list of smaller list of words\n",
    "word_list = stripped_text.split(' ')\n",
    "# print word_list[0:100]\n",
    "\n",
    "###3 Convert all words into lower case and return the list###\n",
    "\"\"\"\n",
    "The following ways two ways of writing the for loop are equivalent\n",
    "square = []\n",
    "num_list = [1, 2, 3, 4]\n",
    "for num in num_list:\n",
    "    square.append(num**2)\n",
    "num_square = [num**2 for num in num_list]\n",
    "print square, num_square\n",
    "\"\"\"\n",
    "# 3a: use a for loop\n",
    "lower_words = []\n",
    "for word in word_list:\n",
    "    lower_words.append(word.lower())\n",
    "\n",
    "# 3b: use a list comprehension\n",
    "lower_words = [word.lower() for word in word_list]"
   ]
  },
  {
   "cell_type": "markdown",
   "metadata": {},
   "source": [
    "### 3\n",
    "Create a function _preprocess_ that takes as arguments _text_ and _non_alphanum_, a string of non-alphanumeric characters that you want get rid of. Perform all operations specfied in the previous question. However, converting to lowercase should be an optional argument. The data structure returned should be a list of words."
   ]
  },
  {
   "cell_type": "code",
   "execution_count": 47,
   "metadata": {
    "collapsed": false
   },
   "outputs": [],
   "source": [
    "def preprocess(text, alphanum_chars, lower = True):\n",
    "    stripped_text = ''.join(ch for ch in text if ch not in exclude)\n",
    "    word_list = stripped_text.split(' ')\n",
    "    if lower:\n",
    "        word_list = [word.lower() for word in word_list]\n",
    "    return word_list\n",
    "\n",
    "# in an application, we should define `exclude` as global or class variable.\n",
    "exclude = set(string.punctuation)\n",
    "# print(preprocess(speech[2], exclude, lower = False))\n"
   ]
  },
  {
   "cell_type": "markdown",
   "metadata": {},
   "source": [
    "### 4\n",
    "Create a function _word_freq_ that takes as input a word list that has been preprocessed and returns a dictionary of the word frequency. Which is the fourth most frequent word of your word list? (Provide code that computes it)"
   ]
  },
  {
   "cell_type": "code",
   "execution_count": 63,
   "metadata": {
    "collapsed": false
   },
   "outputs": [
    {
     "name": "stdout",
     "output_type": "stream",
     "text": [
      "('and', 667)\n",
      "False\n"
     ]
    }
   ],
   "source": [
    "from collections import Counter\n",
    "\n",
    "def word_freq(word_list):\n",
    "    counts = Counter(word_list)\n",
    "    return counts\n",
    "\n",
    "counts = word_freq(word_list)\n",
    "print(counts.most_common(4)[-1])"
   ]
  },
  {
   "cell_type": "markdown",
   "metadata": {},
   "source": [
    "### 5\n",
    "Write a function that takes as input a word list and returns a dictionary of the frequencies of word lengths. Do not use the api collections for this assignment. But have a look at its [documentation](https://docs.python.org/2/library/collections.html). Its useful tool to have in your repository."
   ]
  },
  {
   "cell_type": "code",
   "execution_count": 67,
   "metadata": {
    "collapsed": false
   },
   "outputs": [
    {
     "name": "stdout",
     "output_type": "stream",
     "text": [
      "{0: 7, 1: 587, 2: 3674, 3: 3864, 4: 3223, 5: 2134, 6: 1852, 7: 1952, 8: 1551, 9: 1134, 10: 860, 11: 622, 12: 298, 13: 236, 14: 137, 15: 37, 16: 13, 17: 8, 18: 3, 19: 1, 20: 2, 21: 3}\n"
     ]
    }
   ],
   "source": [
    "def word_length_frequencies(word_list):\n",
    "    word_length_frequencies = {}\n",
    "    for word in word_list:\n",
    "        length = len(word)\n",
    "        # check if the value is already in the word frequency frequencies\n",
    "        if length in word_length_frequencies.keys():\n",
    "            word_length_frequencies[length] += 1\n",
    "        else:\n",
    "            word_length_frequencies[length] = 1\n",
    "    return word_length_frequencies\n",
    "\n",
    "# print(word_length_frequencies(word_list))"
   ]
  },
  {
   "cell_type": "markdown",
   "metadata": {},
   "source": [
    "### 6\n",
    "Load the file _sou_all.txt_ in ./data/pres_speech. Inspect its contents. Familiarise yourself with using regular expressions in python. You can use this [document](https://docs.python.org/2/howto/regex.html) as a starting point. Now use regular expressions to seperate the different speeches. Your function should accept the text and a regular expression as input and return a list of lists. Each element of the list should be a list with following structure:\n",
    "\n",
    "1. year\n",
    "2. president\n",
    "3. List of the transcript of the speech broken down into paragraphs.\n",
    "\n",
    "Save your result as json"
   ]
  },
  {
   "cell_type": "code",
   "execution_count": 2,
   "metadata": {
    "collapsed": false
   },
   "outputs": [],
   "source": [
    "file_handle = open('../data/pres_speech/sou_all.txt')\n",
    "file_contents = file_handle.read()\n",
    "file_handle.close()\n",
    "#print(file_contents[0:100])"
   ]
  },
  {
   "cell_type": "code",
   "execution_count": 27,
   "metadata": {
    "collapsed": false
   },
   "outputs": [],
   "source": [
    "import re\n",
    "import json\n",
    "\n",
    "r = re.compile(r'\\*{10}_([0-9]{4})_oral_(.*)_\\*{5}')\n",
    "speeches = filter(None, re.split(r, file_contents))\n",
    "speech_list = []\n",
    "\n",
    "for i in range(0, num_speeches, 3):\n",
    "    year = speeches[i]\n",
    "    president = speeches[i+1].replace('_', ' ')\n",
    "    transcript = filter(None, speeches[i+2].split('\\n\\n'))\n",
    "    speech_list.append({'year': year, 'president': president, 'transcript': transcript})\n",
    "    \n",
    "## Save to disk\n",
    "with open('sou_all.json', 'w') as outfile:\n",
    "    json.dump(speech_list, outfile, indent = 4)"
   ]
  },
  {
   "cell_type": "code",
   "execution_count": null,
   "metadata": {
    "collapsed": true
   },
   "outputs": [],
   "source": []
  }
 ],
 "metadata": {
  "kernelspec": {
   "display_name": "Python 2",
   "language": "python",
   "name": "python2"
  },
  "language_info": {
   "codemirror_mode": {
    "name": "ipython",
    "version": 2
   },
   "file_extension": ".py",
   "mimetype": "text/x-python",
   "name": "python",
   "nbconvert_exporter": "python",
   "pygments_lexer": "ipython2",
   "version": "2.7.10"
  }
 },
 "nbformat": 4,
 "nbformat_minor": 0
}
